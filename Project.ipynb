{
 "cells": [
  {
   "cell_type": "markdown",
   "id": "b2d77b21",
   "metadata": {},
   "source": [
    "Import des bibli"
   ]
  },
  {
   "cell_type": "code",
   "execution_count": 76,
   "id": "3e65db9e",
   "metadata": {},
   "outputs": [],
   "source": [
    "import pandas as pd\n",
    "import matplotlib.pyplot as plt\n",
    "import seaborn as sns\n",
    "\n",
    "# Configurations visuelles\n",
    "plt.style.use('ggplot')\n",
    "sns.set_theme()\n"
   ]
  },
  {
   "cell_type": "markdown",
   "id": "129c1cb1",
   "metadata": {},
   "source": [
    "Chargement des datasets"
   ]
  },
  {
   "cell_type": "code",
   "execution_count": 77,
   "id": "35cb8b24",
   "metadata": {},
   "outputs": [],
   "source": [
    "players_df = pd.read_csv(\"game_players_stats.csv\")\n",
    "events_df = pd.read_csv(\"game_events.csv\")\n",
    "meta_df = pd.read_csv(\"game_metadata.csv\")\n"
   ]
  },
  {
   "cell_type": "markdown",
   "id": "c7b58129",
   "metadata": {},
   "source": [
    "Test des premières lignes"
   ]
  },
  {
   "cell_type": "code",
   "execution_count": 78,
   "id": "5a2199cc",
   "metadata": {},
   "outputs": [
    {
     "name": "stdout",
     "output_type": "stream",
     "text": [
      "Players:\n",
      "   game_id  player_id player_name  team_id               team_name  \\\n",
      "0       15          0      shanji        0    Legend Esport Gaming   \n",
      "1       15          1       Demon        1  Bilibili Gaming Junior   \n",
      "2       15          2     yanxuan        0    Legend Esport Gaming   \n",
      "3       15          3        Viod        0    Legend Esport Gaming   \n",
      "4       15          4     HanXuan        1  Bilibili Gaming Junior   \n",
      "\n",
      "  team_acronym     role    win  game_length champion_name  ...  \\\n",
      "0          LEG      Top  False         1415        Irelia  ...   \n",
      "1         BLGJ      Top   True         1415      Vladimir  ...   \n",
      "2          LEG      Bot  False         1415        Kai'Sa  ...   \n",
      "3          LEG  Support  False         1415           Lux  ...   \n",
      "4         BLGJ      Mid   True         1415        Aatrox  ...   \n",
      "\n",
      "   player_assists  total_minions_killed  gold_earned  level  \\\n",
      "0               1                   179         8530     12   \n",
      "1               6                   174         8565     14   \n",
      "2               1                   227         9613     12   \n",
      "3               2                    19         5442     10   \n",
      "4               4                   188        10125     14   \n",
      "\n",
      "   total_damage_dealt  total_damage_dealt_to_champions  total_damage_taken  \\\n",
      "0               99007                             7923               15326   \n",
      "1              100342                            10857               16475   \n",
      "2              116407                             7011                5788   \n",
      "3               23555                             4932                6151   \n",
      "4              125022                            10749               15481   \n",
      "\n",
      "   wards_placed  largest_killing_spree  largest_multi_kill  \n",
      "0             8                      0                   1  \n",
      "1            11                      2                   1  \n",
      "2             9                      0                   1  \n",
      "3            25                      0                   0  \n",
      "4            10                      3                   2  \n",
      "\n",
      "[5 rows x 28 columns] \n",
      "\n",
      "Events:\n",
      "   id  game_id  timestamp   event_type  killer_id  killed_id  \\\n",
      "0   0        0        229  player_kill       21.0       29.0   \n",
      "1   1        0        289  player_kill       21.0       29.0   \n",
      "2   2        0        499  player_kill       25.0       21.0   \n",
      "3   3        0        504  player_kill       22.0       23.0   \n",
      "4   4        0        535  player_kill       28.0       24.0   \n",
      "\n",
      "  assisting_player_ids drake_type  \n",
      "0                 [23]        NaN  \n",
      "1                 [23]        NaN  \n",
      "2             [29, 22]        NaN  \n",
      "3             [29, 25]        NaN  \n",
      "4                 [27]        NaN   \n",
      "\n",
      "Metadata:\n",
      "   game_id                        date  match_id  tournament_id  \\\n",
      "0        0  2019-09-15 10:17:30.487000         0              0   \n",
      "1        1  2019-09-15 11:18:01.085000         0              0   \n",
      "2        2  2019-09-15 12:11:33.489000         0              0   \n",
      "3        3  2019-09-15 13:03:19.662000         0              0   \n",
      "4        4  2019-09-16 04:32:28.724000         1              1   \n",
      "\n",
      "  tournament_name  series_id      series_name  league_id league_name  \n",
      "0        Playoffs          0  VCS Summer 2019          0         VCS  \n",
      "1        Playoffs          0  VCS Summer 2019          0         VCS  \n",
      "2        Playoffs          0  VCS Summer 2019          0         VCS  \n",
      "3        Playoffs          0  VCS Summer 2019          0         VCS  \n",
      "4        Playoffs          1  LJL Summer 2019          1         LJL   \n",
      "\n"
     ]
    }
   ],
   "source": [
    "# Affiche les premières lignes\n",
    "print(\"Players:\")\n",
    "print(players_df.head(), '\\n')\n",
    "\n",
    "print(\"Events:\")\n",
    "print(events_df.head(), '\\n')\n",
    "\n",
    "print(\"Metadata:\")\n",
    "print(meta_df.head(), '\\n')\n"
   ]
  },
  {
   "cell_type": "markdown",
   "id": "4d74478c",
   "metadata": {},
   "source": [
    "Verification de la qualité des données"
   ]
  },
  {
   "cell_type": "code",
   "execution_count": 79,
   "id": "ece6d266",
   "metadata": {},
   "outputs": [
    {
     "name": "stdout",
     "output_type": "stream",
     "text": [
      "Players shape: (374554, 28)\n",
      "game_id                             int64\n",
      "player_id                           int64\n",
      "player_name                        object\n",
      "team_id                             int64\n",
      "team_name                          object\n",
      "team_acronym                       object\n",
      "role                               object\n",
      "win                                  bool\n",
      "game_length                         int64\n",
      "champion_name                      object\n",
      "team_kills                          int64\n",
      "tower_kills                         int64\n",
      "inhibitor_kills                     int64\n",
      "dragon_kills                        int64\n",
      "herald_kills                        int64\n",
      "baron_kills                         int64\n",
      "player_kills                        int64\n",
      "player_deaths                       int64\n",
      "player_assists                      int64\n",
      "total_minions_killed                int64\n",
      "gold_earned                         int64\n",
      "level                               int64\n",
      "total_damage_dealt                  int64\n",
      "total_damage_dealt_to_champions     int64\n",
      "total_damage_taken                  int64\n",
      "wards_placed                        int64\n",
      "largest_killing_spree               int64\n",
      "largest_multi_kill                  int64\n",
      "dtype: object \n",
      "\n",
      "Events shape: (1884740, 8)\n",
      "id                        int64\n",
      "game_id                   int64\n",
      "timestamp                 int64\n",
      "event_type               object\n",
      "killer_id               float64\n",
      "killed_id               float64\n",
      "assisting_player_ids     object\n",
      "drake_type               object\n",
      "dtype: object \n",
      "\n",
      "Metadata shape: (37459, 9)\n",
      "game_id             int64\n",
      "date               object\n",
      "match_id            int64\n",
      "tournament_id       int64\n",
      "tournament_name    object\n",
      "series_id           int64\n",
      "series_name        object\n",
      "league_id           int64\n",
      "league_name        object\n",
      "dtype: object \n",
      "\n",
      "Missing values (Players):\n",
      "game_id                              0\n",
      "player_id                            0\n",
      "player_name                          0\n",
      "team_id                              0\n",
      "team_name                            0\n",
      "team_acronym                       290\n",
      "role                                 0\n",
      "win                                  0\n",
      "game_length                          0\n",
      "champion_name                        0\n",
      "team_kills                           0\n",
      "tower_kills                          0\n",
      "inhibitor_kills                      0\n",
      "dragon_kills                         0\n",
      "herald_kills                         0\n",
      "baron_kills                          0\n",
      "player_kills                         0\n",
      "player_deaths                        0\n",
      "player_assists                       0\n",
      "total_minions_killed                 0\n",
      "gold_earned                          0\n",
      "level                                0\n",
      "total_damage_dealt                   0\n",
      "total_damage_dealt_to_champions      0\n",
      "total_damage_taken                   0\n",
      "wards_placed                         0\n",
      "largest_killing_spree                0\n",
      "largest_multi_kill                   0\n",
      "dtype: int64\n",
      "\n",
      "Missing values (Events):\n",
      "id                            0\n",
      "game_id                       0\n",
      "timestamp                     0\n",
      "event_type                    0\n",
      "killer_id                137338\n",
      "killed_id                842221\n",
      "assisting_player_ids          0\n",
      "drake_type              1715628\n",
      "dtype: int64\n",
      "\n",
      "Missing values (Metadata):\n",
      "game_id            0\n",
      "date               0\n",
      "match_id           0\n",
      "tournament_id      0\n",
      "tournament_name    0\n",
      "series_id          0\n",
      "series_name        0\n",
      "league_id          0\n",
      "league_name        0\n",
      "dtype: int64\n"
     ]
    }
   ],
   "source": [
    "# Dimensions et types\n",
    "for name, df in zip(['Players', 'Events', 'Metadata'], [players_df, events_df, meta_df]):\n",
    "    print(f\"{name} shape: {df.shape}\")\n",
    "    print(df.dtypes, '\\n')\n",
    "\n",
    "# Valeurs manquantes\n",
    "print(\"Missing values (Players):\")\n",
    "print(players_df.isnull().sum())\n",
    "\n",
    "print(\"\\nMissing values (Events):\")\n",
    "print(events_df.isnull().sum())\n",
    "\n",
    "print(\"\\nMissing values (Metadata):\")\n",
    "print(meta_df.isnull().sum())\n"
   ]
  },
  {
   "cell_type": "markdown",
   "id": "7e5d9b43",
   "metadata": {},
   "source": [
    "Je pense qu'on peut totalement supprimé la colonne \"team acronym\" pcq en soit du moment qu'on connnait le nom de l'équipe entière ca sert à rien qu'on essayer de faire de la complétion sur un acronyme.\n",
    "Sur le reste il va falloir analyser comment on fait pour le \"killer_id\" et \"killed_id\" dans la partie \"event\" pcq ce sont clairement des données intéressantes donc je ne sais pas comment on va pouvoir faire pour les traiter de la bonne façon.\n",
    "Attention à \"drake_type\" aussi, je ne sais pas encore ce que c'est, à voir si c'est intéressant.  \n",
    "APRES discussion : le dragon est quand mm intéressant à savoir étant donné qu'il donne des avantage mais on va juste le transforer en \"true\" \"false\"\n"
   ]
  },
  {
   "cell_type": "code",
   "execution_count": 80,
   "id": "3a74b718",
   "metadata": {},
   "outputs": [
    {
     "name": "stdout",
     "output_type": "stream",
     "text": [
      "Total lignes : 1884740\n",
      "Données manquantes killer_id : 137338\n",
      "Pourcentage : 7.29%\n",
      "Données manquantes killed_id : 842221\n",
      "Pourcentage : 44.69%\n",
      "Données manquantes drake_type : 1715628\n",
      "Pourcentage : 91.03%\n"
     ]
    }
   ],
   "source": [
    "total_rows = events_df.shape[0]\n",
    "missing_killer_id = events_df['killer_id'].isnull().sum()\n",
    "missing_killed_id = events_df['killed_id'].isnull().sum()\n",
    "missing_drake_type = events_df['drake_type'].isnull().sum()\n",
    "\n",
    "print(f\"Total lignes : {total_rows}\")\n",
    "print(f\"Données manquantes killer_id : {missing_killer_id}\")\n",
    "print(f\"Pourcentage : {missing_killer_id / total_rows * 100:.2f}%\")\n",
    "\n",
    "print(f\"Données manquantes killed_id : {missing_killed_id}\")\n",
    "print(f\"Pourcentage : {missing_killed_id / total_rows * 100:.2f}%\")\n",
    "\n",
    "print(f\"Données manquantes drake_type : {missing_drake_type}\")\n",
    "print(f\"Pourcentage : {missing_drake_type / total_rows * 100:.2f}%\")\n"
   ]
  },
  {
   "cell_type": "markdown",
   "id": "c6cb7fb1",
   "metadata": {},
   "source": [
    "Le killer_id on manque de peu de données 7,3% donc on va pouvoir essayer de les prédire et de les compléter.  \n",
    "Le killed_id on manque de beaucoup de données 44,7% donc je sais pas comment on peut faire mais ce serait quand même intéressant de l'avoir pour après faire des liens \"Joueur A à tué Joueur B\" et estimer qui est meilleurs que qui  \n",
    "drake_type on manque de beaucoup de données"
   ]
  },
  {
   "cell_type": "markdown",
   "id": "ac07fae1",
   "metadata": {},
   "source": [
    "Enfait je viens de réaliser que c'est pas grave de manquer de killer_id ou killed_id pcq tous les events ne sont pas forcément des kills donc c'est pour ça. ;)"
   ]
  },
  {
   "cell_type": "markdown",
   "id": "7c6d8ebc",
   "metadata": {},
   "source": [
    "ATTENDS : meme raisonemment que pour les kills, tous les event sont pas des dragons, donc normal de pas avoir le type de dragons sur toutes les lignes de event. MAis du coup faut regarder combien d'event sont des dragons et voir combien de fois on a le type des dragons (1884740 - 1715628)si c'est le mm nombre c'est parfait"
   ]
  },
  {
   "cell_type": "code",
   "execution_count": 86,
   "id": "0b6b62ca",
   "metadata": {},
   "outputs": [
    {
     "name": "stdout",
     "output_type": "stream",
     "text": [
      "['player_kill' 'tower_kill' 'drake_kill' 'baron_nashor_kill'\n",
      " 'inhibitor_kill' 'rift_herald_kill' 'suicide' 'other' 'resurrection'\n",
      " 'dragon_kill' 'voidgrub_kill']\n"
     ]
    }
   ],
   "source": [
    "print(events_df['event_type'].unique())\n"
   ]
  },
  {
   "cell_type": "code",
   "execution_count": 85,
   "id": "f2f8c98f",
   "metadata": {},
   "outputs": [
    {
     "name": "stdout",
     "output_type": "stream",
     "text": [
      "Nombre total de drake_kill : 169112\n",
      "Nombre avec drake_type défini     : 169112\n",
      "Proportion : 100.00%\n"
     ]
    }
   ],
   "source": [
    "# Filtrer les events de type \"ELITE_MONSTER_KILL\"\n",
    "elite_events = events_df[events_df['event_type'] == 'drake_kill']\n",
    "\n",
    "# Parmi eux, ceux où le drake_type est non nul\n",
    "dragon_events = elite_events[elite_events['drake_type'].notnull()]\n",
    "\n",
    "# Nombre total d'élite kills\n",
    "total_elite = elite_events.shape[0]\n",
    "\n",
    "# Nombre de drake_type non nuls\n",
    "with_drake_type = dragon_events.shape[0]\n",
    "\n",
    "# Affichage\n",
    "print(f\"Nombre total de drake_kill : {total_elite}\")\n",
    "print(f\"Nombre avec drake_type défini     : {with_drake_type}\")\n",
    "print(f\"Proportion : {with_drake_type / total_elite * 100:.2f}%\")\n"
   ]
  },
  {
   "cell_type": "markdown",
   "id": "f1cdb843",
   "metadata": {},
   "source": [
    "C'est bon, nous avons un type de drake à chaque event qui contient un drake"
   ]
  },
  {
   "cell_type": "code",
   "execution_count": 89,
   "id": "516773f8",
   "metadata": {},
   "outputs": [
    {
     "name": "stdout",
     "output_type": "stream",
     "text": [
      "Nombre total de kill : 1042510\n",
      "Nombre de suicide : 13\n",
      "Nombre avec killer défini     : 1040381\n",
      "Proportion : 99.80%\n",
      "Il manque : 2129 killer\n",
      "Nombre avec killed défini     : 1042505\n",
      "Proportion : 100.00%\n"
     ]
    }
   ],
   "source": [
    "# Filtrer les events de type \"ELITE_MONSTER_KILL\"\n",
    "kill_events = events_df[events_df['event_type'] == 'player_kill']\n",
    "suicide_events = events_df[events_df['event_type'] == 'suicide']\n",
    "\n",
    "# Parmi eux, ceux où le killer est non nul\n",
    "killer_events = kill_events[kill_events['killer_id'].notnull()]\n",
    "killed_events = kill_events[kill_events['killed_id'].notnull()]\n",
    "\n",
    "# Nombre total d'élite kills\n",
    "total_elite = kill_events.shape[0]\n",
    "total_suicide = suicide_events.shape[0]\n",
    "\n",
    "# Nombre de drake_type non nuls\n",
    "with_killer_type = killer_events.shape[0]\n",
    "with_killed_type = killed_events.shape[0]\n",
    "\n",
    "# Affichage\n",
    "print(f\"Nombre total de kill : {total_elite}\")\n",
    "print(f\"Nombre de suicide : {total_suicide}\")\n",
    "print(f\"Nombre avec killer défini     : {with_killer_type}\")\n",
    "print(f\"Proportion : {with_killer_type / total_elite * 100:.2f}%\")\n",
    "print(f\"Il manque : {total_elite - with_killer_type} killer\")\n",
    "print(f\"Nombre avec killed défini     : {with_killed_type}\")\n",
    "print(f\"Proportion : {with_killed_type / total_elite * 100:.2f}%\")\n"
   ]
  },
  {
   "cell_type": "markdown",
   "id": "e305930d",
   "metadata": {},
   "source": [
    "On a le bon nombre de joueur tué mais pas le bon nombre de joueur tueur. Cela peu peut-être s'expliquer du fait qu'un joueur peut mourir par un monstre ?"
   ]
  },
  {
   "cell_type": "code",
   "execution_count": 14,
   "id": "bce19c3d",
   "metadata": {},
   "outputs": [
    {
     "name": "stdout",
     "output_type": "stream",
     "text": [
      "Total de nombre de game : 37459\n",
      "Total meta : 37459\n",
      "Total event : 37417\n"
     ]
    }
   ],
   "source": [
    "#Curiosité je voudrais savoir combien on a de game_id\n",
    "Real_nb = players_df['game_id'].nunique()\n",
    "\n",
    "print(f\"Total de nombre de game : {Real_nb}\")\n",
    "\n",
    "#verif qu'on a bien le même nombre pour metadata et event\n",
    "meta_nb = meta_df['game_id'].nunique()\n",
    "events_nb = events_df['game_id'].nunique()\n",
    "\n",
    "print(f\"Total meta : {meta_nb}\")\n",
    "print(f\"Total event : {events_nb}\")"
   ]
  },
  {
   "cell_type": "markdown",
   "id": "9259891f",
   "metadata": {},
   "source": [
    "Il nous manque certains matchs (42 matchs pour être exact) dans \"event\" c'est peut-être parce que ces matchs ont été très rapide où n'ont rien donnés.  \n",
    "Je pense qu'on peut les supprimer du dataset global parce que ca ne représente que 0,1 % de tous les matchs donc c'est rien du tout.  \n",
    "Mais ça peut quand même être intéressant de vite fait les analyser pour savoir s'il s'est passer qqch d'intéressant à en tirer.  "
   ]
  },
  {
   "cell_type": "code",
   "execution_count": 19,
   "id": "05260b1d",
   "metadata": {},
   "outputs": [
    {
     "name": "stdout",
     "output_type": "stream",
     "text": [
      "Nombre de game_id absents dans events_df : 42\n",
      "[5753, 5754, 13215, 21066, 21067, 21068, 21069, 21101, 21102, 21103, 21104, 21118, 21119, 21120, 29466, 29467, 29468, 29483, 29484, 29485, 29593, 29594, 29595, 29596, 29608, 29609, 29610, 37324, 37325, 37326, 37339, 37340, 37341, 37342, 37343, 37402, 37403, 37404, 37447, 37448, 37449, 37450]\n"
     ]
    }
   ],
   "source": [
    "# Tous les game_id dans players_df\n",
    "all_games = set(players_df['game_id'].unique())\n",
    "\n",
    "# Tous les game_id dans events_df\n",
    "event_games = set(events_df['game_id'].unique())\n",
    "\n",
    "# Ceux qui sont absents\n",
    "missing_in_events = all_games - event_games\n",
    "# Convertir en liste d'entiers et trier\n",
    "missing_ids_sorted = sorted([int(x) for x in missing_in_events])\n",
    "\n",
    "print(f\"Nombre de game_id absents dans events_df : {len(missing_in_events)}\")\n",
    "print(missing_ids_sorted)\n"
   ]
  },
  {
   "cell_type": "markdown",
   "id": "a57858e4",
   "metadata": {},
   "source": [
    "Maintenant on va les analyser vite fait surtout avec game_metadata pour voir s'ils ont un point commun et donc une explication à pourquoi ils ne sont pas présent dans event.  "
   ]
  },
  {
   "cell_type": "code",
   "execution_count": 20,
   "id": "58e38579",
   "metadata": {},
   "outputs": [
    {
     "name": "stdout",
     "output_type": "stream",
     "text": [
      "(42, 9)\n"
     ]
    },
    {
     "data": {
      "text/html": [
       "<div>\n",
       "<style scoped>\n",
       "    .dataframe tbody tr th:only-of-type {\n",
       "        vertical-align: middle;\n",
       "    }\n",
       "\n",
       "    .dataframe tbody tr th {\n",
       "        vertical-align: top;\n",
       "    }\n",
       "\n",
       "    .dataframe thead th {\n",
       "        text-align: right;\n",
       "    }\n",
       "</style>\n",
       "<table border=\"1\" class=\"dataframe\">\n",
       "  <thead>\n",
       "    <tr style=\"text-align: right;\">\n",
       "      <th></th>\n",
       "      <th>game_id</th>\n",
       "      <th>date</th>\n",
       "      <th>match_id</th>\n",
       "      <th>tournament_id</th>\n",
       "      <th>tournament_name</th>\n",
       "      <th>series_id</th>\n",
       "      <th>series_name</th>\n",
       "      <th>league_id</th>\n",
       "      <th>league_name</th>\n",
       "    </tr>\n",
       "  </thead>\n",
       "  <tbody>\n",
       "    <tr>\n",
       "      <th>5753</th>\n",
       "      <td>5753</td>\n",
       "      <td>2020-09-13 16:04:02.286605</td>\n",
       "      <td>3529</td>\n",
       "      <td>149</td>\n",
       "      <td>Group B</td>\n",
       "      <td>60</td>\n",
       "      <td>European Masters Summer 2020</td>\n",
       "      <td>5</td>\n",
       "      <td>European Masters</td>\n",
       "    </tr>\n",
       "    <tr>\n",
       "      <th>5754</th>\n",
       "      <td>5754</td>\n",
       "      <td>2020-09-13 16:54:05.890573</td>\n",
       "      <td>3530</td>\n",
       "      <td>149</td>\n",
       "      <td>Group B</td>\n",
       "      <td>60</td>\n",
       "      <td>European Masters Summer 2020</td>\n",
       "      <td>5</td>\n",
       "      <td>European Masters</td>\n",
       "    </tr>\n",
       "    <tr>\n",
       "      <th>13215</th>\n",
       "      <td>13215</td>\n",
       "      <td>2021-09-13 00:52:03.000000</td>\n",
       "      <td>8544</td>\n",
       "      <td>349</td>\n",
       "      <td>Playoffs</td>\n",
       "      <td>138</td>\n",
       "      <td>LCS Proving Grounds Summer 2021</td>\n",
       "      <td>38</td>\n",
       "      <td>LCS Proving Grounds</td>\n",
       "    </tr>\n",
       "    <tr>\n",
       "      <th>21066</th>\n",
       "      <td>21066</td>\n",
       "      <td>2022-09-13 16:01:50.403495</td>\n",
       "      <td>14101</td>\n",
       "      <td>505</td>\n",
       "      <td>Playoffs</td>\n",
       "      <td>207</td>\n",
       "      <td>LVP SL Promotion 2023</td>\n",
       "      <td>11</td>\n",
       "      <td>LVP SL</td>\n",
       "    </tr>\n",
       "    <tr>\n",
       "      <th>21067</th>\n",
       "      <td>21067</td>\n",
       "      <td>2022-09-13 17:04:59.997188</td>\n",
       "      <td>14101</td>\n",
       "      <td>505</td>\n",
       "      <td>Playoffs</td>\n",
       "      <td>207</td>\n",
       "      <td>LVP SL Promotion 2023</td>\n",
       "      <td>11</td>\n",
       "      <td>LVP SL</td>\n",
       "    </tr>\n",
       "  </tbody>\n",
       "</table>\n",
       "</div>"
      ],
      "text/plain": [
       "       game_id                        date  match_id  tournament_id  \\\n",
       "5753      5753  2020-09-13 16:04:02.286605      3529            149   \n",
       "5754      5754  2020-09-13 16:54:05.890573      3530            149   \n",
       "13215    13215  2021-09-13 00:52:03.000000      8544            349   \n",
       "21066    21066  2022-09-13 16:01:50.403495     14101            505   \n",
       "21067    21067  2022-09-13 17:04:59.997188     14101            505   \n",
       "\n",
       "      tournament_name  series_id                      series_name  league_id  \\\n",
       "5753          Group B         60     European Masters Summer 2020          5   \n",
       "5754          Group B         60     European Masters Summer 2020          5   \n",
       "13215        Playoffs        138  LCS Proving Grounds Summer 2021         38   \n",
       "21066        Playoffs        207            LVP SL Promotion 2023         11   \n",
       "21067        Playoffs        207            LVP SL Promotion 2023         11   \n",
       "\n",
       "               league_name  \n",
       "5753      European Masters  \n",
       "5754      European Masters  \n",
       "13215  LCS Proving Grounds  \n",
       "21066               LVP SL  \n",
       "21067               LVP SL  "
      ]
     },
     "execution_count": 20,
     "metadata": {},
     "output_type": "execute_result"
    }
   ],
   "source": [
    "# Crée un DataFrame contenant uniquement les matchs sans événements\n",
    "missing_meta_df = meta_df[meta_df['game_id'].isin(missing_ids_sorted)]\n",
    "print(missing_meta_df.shape)\n",
    "missing_meta_df.head()\n"
   ]
  },
  {
   "cell_type": "markdown",
   "id": "e49bd31b",
   "metadata": {},
   "source": [
    "On peut déjà voir que il semblerait que tous les matchs non enregistrés soient joué un 13 septembre... mais on va analyser ça un peu mieux.  "
   ]
  },
  {
   "cell_type": "code",
   "execution_count": 25,
   "id": "96933d71",
   "metadata": {},
   "outputs": [],
   "source": [
    "# subset_df = missing_meta_df[['game_id', 'date', 'tournament_name', 'series_name', 'league_name']]\n",
    "\n",
    "# with pd.option_context('display.max_rows', None):\n",
    "#     print(subset_df.sort_values(by='game_id')) "
   ]
  },
  {
   "cell_type": "markdown",
   "id": "184e6f5e",
   "metadata": {},
   "source": [
    "Après analyse nous voyons que tous les matchs non enregistré ont été joué le 13 septembre avant 2024 et le 12 septembre en 2024, je n'ai pas plus d'explications sur \"pourquoi chaque année à cette date ce n'est pas enregistré ?\" mais quoi qu'il en soit on va les supprimé car ils ne sont pas bcp dans le dataset."
   ]
  },
  {
   "cell_type": "code",
   "execution_count": 30,
   "id": "dd6f2fad",
   "metadata": {},
   "outputs": [
    {
     "data": {
      "text/html": [
       "<div>\n",
       "<style scoped>\n",
       "    .dataframe tbody tr th:only-of-type {\n",
       "        vertical-align: middle;\n",
       "    }\n",
       "\n",
       "    .dataframe tbody tr th {\n",
       "        vertical-align: top;\n",
       "    }\n",
       "\n",
       "    .dataframe thead th {\n",
       "        text-align: right;\n",
       "    }\n",
       "</style>\n",
       "<table border=\"1\" class=\"dataframe\">\n",
       "  <thead>\n",
       "    <tr style=\"text-align: right;\">\n",
       "      <th></th>\n",
       "      <th>game_id</th>\n",
       "      <th>player_id</th>\n",
       "      <th>player_name</th>\n",
       "      <th>team_id</th>\n",
       "      <th>team_name</th>\n",
       "      <th>team_acronym</th>\n",
       "      <th>role</th>\n",
       "      <th>win</th>\n",
       "      <th>game_length</th>\n",
       "      <th>champion_name</th>\n",
       "      <th>...</th>\n",
       "      <th>largest_killing_spree</th>\n",
       "      <th>largest_multi_kill</th>\n",
       "      <th>date</th>\n",
       "      <th>match_id</th>\n",
       "      <th>tournament_id</th>\n",
       "      <th>tournament_name</th>\n",
       "      <th>series_id</th>\n",
       "      <th>series_name</th>\n",
       "      <th>league_id</th>\n",
       "      <th>league_name</th>\n",
       "    </tr>\n",
       "  </thead>\n",
       "  <tbody>\n",
       "    <tr>\n",
       "      <th>0</th>\n",
       "      <td>15</td>\n",
       "      <td>0</td>\n",
       "      <td>shanji</td>\n",
       "      <td>0</td>\n",
       "      <td>Legend Esport Gaming</td>\n",
       "      <td>LEG</td>\n",
       "      <td>Top</td>\n",
       "      <td>False</td>\n",
       "      <td>1415</td>\n",
       "      <td>Irelia</td>\n",
       "      <td>...</td>\n",
       "      <td>0</td>\n",
       "      <td>1</td>\n",
       "      <td>2019-09-15 06:03:38.000000</td>\n",
       "      <td>4</td>\n",
       "      <td>4</td>\n",
       "      <td>Playoffs</td>\n",
       "      <td>4</td>\n",
       "      <td>LDL Summer 2019</td>\n",
       "      <td>4</td>\n",
       "      <td>LDL</td>\n",
       "    </tr>\n",
       "    <tr>\n",
       "      <th>1</th>\n",
       "      <td>15</td>\n",
       "      <td>1</td>\n",
       "      <td>Demon</td>\n",
       "      <td>1</td>\n",
       "      <td>Bilibili Gaming Junior</td>\n",
       "      <td>BLGJ</td>\n",
       "      <td>Top</td>\n",
       "      <td>True</td>\n",
       "      <td>1415</td>\n",
       "      <td>Vladimir</td>\n",
       "      <td>...</td>\n",
       "      <td>2</td>\n",
       "      <td>1</td>\n",
       "      <td>2019-09-15 06:03:38.000000</td>\n",
       "      <td>4</td>\n",
       "      <td>4</td>\n",
       "      <td>Playoffs</td>\n",
       "      <td>4</td>\n",
       "      <td>LDL Summer 2019</td>\n",
       "      <td>4</td>\n",
       "      <td>LDL</td>\n",
       "    </tr>\n",
       "    <tr>\n",
       "      <th>2</th>\n",
       "      <td>15</td>\n",
       "      <td>2</td>\n",
       "      <td>yanxuan</td>\n",
       "      <td>0</td>\n",
       "      <td>Legend Esport Gaming</td>\n",
       "      <td>LEG</td>\n",
       "      <td>Bot</td>\n",
       "      <td>False</td>\n",
       "      <td>1415</td>\n",
       "      <td>Kai'Sa</td>\n",
       "      <td>...</td>\n",
       "      <td>0</td>\n",
       "      <td>1</td>\n",
       "      <td>2019-09-15 06:03:38.000000</td>\n",
       "      <td>4</td>\n",
       "      <td>4</td>\n",
       "      <td>Playoffs</td>\n",
       "      <td>4</td>\n",
       "      <td>LDL Summer 2019</td>\n",
       "      <td>4</td>\n",
       "      <td>LDL</td>\n",
       "    </tr>\n",
       "    <tr>\n",
       "      <th>3</th>\n",
       "      <td>15</td>\n",
       "      <td>3</td>\n",
       "      <td>Viod</td>\n",
       "      <td>0</td>\n",
       "      <td>Legend Esport Gaming</td>\n",
       "      <td>LEG</td>\n",
       "      <td>Support</td>\n",
       "      <td>False</td>\n",
       "      <td>1415</td>\n",
       "      <td>Lux</td>\n",
       "      <td>...</td>\n",
       "      <td>0</td>\n",
       "      <td>0</td>\n",
       "      <td>2019-09-15 06:03:38.000000</td>\n",
       "      <td>4</td>\n",
       "      <td>4</td>\n",
       "      <td>Playoffs</td>\n",
       "      <td>4</td>\n",
       "      <td>LDL Summer 2019</td>\n",
       "      <td>4</td>\n",
       "      <td>LDL</td>\n",
       "    </tr>\n",
       "    <tr>\n",
       "      <th>4</th>\n",
       "      <td>15</td>\n",
       "      <td>4</td>\n",
       "      <td>HanXuan</td>\n",
       "      <td>1</td>\n",
       "      <td>Bilibili Gaming Junior</td>\n",
       "      <td>BLGJ</td>\n",
       "      <td>Mid</td>\n",
       "      <td>True</td>\n",
       "      <td>1415</td>\n",
       "      <td>Aatrox</td>\n",
       "      <td>...</td>\n",
       "      <td>3</td>\n",
       "      <td>2</td>\n",
       "      <td>2019-09-15 06:03:38.000000</td>\n",
       "      <td>4</td>\n",
       "      <td>4</td>\n",
       "      <td>Playoffs</td>\n",
       "      <td>4</td>\n",
       "      <td>LDL Summer 2019</td>\n",
       "      <td>4</td>\n",
       "      <td>LDL</td>\n",
       "    </tr>\n",
       "  </tbody>\n",
       "</table>\n",
       "<p>5 rows × 36 columns</p>\n",
       "</div>"
      ],
      "text/plain": [
       "   game_id  player_id player_name  team_id               team_name  \\\n",
       "0       15          0      shanji        0    Legend Esport Gaming   \n",
       "1       15          1       Demon        1  Bilibili Gaming Junior   \n",
       "2       15          2     yanxuan        0    Legend Esport Gaming   \n",
       "3       15          3        Viod        0    Legend Esport Gaming   \n",
       "4       15          4     HanXuan        1  Bilibili Gaming Junior   \n",
       "\n",
       "  team_acronym     role    win  game_length champion_name  ...  \\\n",
       "0          LEG      Top  False         1415        Irelia  ...   \n",
       "1         BLGJ      Top   True         1415      Vladimir  ...   \n",
       "2          LEG      Bot  False         1415        Kai'Sa  ...   \n",
       "3          LEG  Support  False         1415           Lux  ...   \n",
       "4         BLGJ      Mid   True         1415        Aatrox  ...   \n",
       "\n",
       "   largest_killing_spree  largest_multi_kill                        date  \\\n",
       "0                      0                   1  2019-09-15 06:03:38.000000   \n",
       "1                      2                   1  2019-09-15 06:03:38.000000   \n",
       "2                      0                   1  2019-09-15 06:03:38.000000   \n",
       "3                      0                   0  2019-09-15 06:03:38.000000   \n",
       "4                      3                   2  2019-09-15 06:03:38.000000   \n",
       "\n",
       "   match_id  tournament_id  tournament_name  series_id      series_name  \\\n",
       "0         4              4         Playoffs          4  LDL Summer 2019   \n",
       "1         4              4         Playoffs          4  LDL Summer 2019   \n",
       "2         4              4         Playoffs          4  LDL Summer 2019   \n",
       "3         4              4         Playoffs          4  LDL Summer 2019   \n",
       "4         4              4         Playoffs          4  LDL Summer 2019   \n",
       "\n",
       "   league_id  league_name  \n",
       "0          4          LDL  \n",
       "1          4          LDL  \n",
       "2          4          LDL  \n",
       "3          4          LDL  \n",
       "4          4          LDL  \n",
       "\n",
       "[5 rows x 36 columns]"
      ]
     },
     "execution_count": 30,
     "metadata": {},
     "output_type": "execute_result"
    }
   ],
   "source": [
    "#Ici on va mettre en commun players et metadata en fonction du game_id\n",
    "#Ensuite on supprime les matchs qui ne sont pas dans events dans notre nouveau df\n",
    "#Attention pour le moment on ne va pas merged event dans notre nouveau df pcq event contient énormément de ligne/game_id\n",
    "#Ca pourrait créer des milliers de lignes, pas ouf.\n",
    "#On travaillera + tard avec des infos événementielles par joueurs ou par match.\n",
    "player_match_df = pd.merge(players_df, meta_df, on='game_id', how='left')\n",
    "\n",
    "valid_game_ids = events_df['game_id'].unique()\n",
    "player_match_df = player_match_df[player_match_df['game_id'].isin(valid_game_ids)]\n",
    "player_match_df.reset_index(drop=True, inplace=True)\n",
    "player_match_df.head()\n"
   ]
  },
  {
   "cell_type": "markdown",
   "id": "96cc6af7",
   "metadata": {},
   "source": [
    "Petite visualisation de départ :"
   ]
  },
  {
   "cell_type": "code",
   "execution_count": 34,
   "id": "6cd451cc",
   "metadata": {},
   "outputs": [],
   "source": [
    "# sns.countplot(data=players_df, x='role', order=players_df['role'].value_counts().index)\n",
    "# plt.title(\"Répartition des rôles des joueurs\")\n",
    "# plt.ylabel(\"Nombre de joueurs\")\n",
    "# plt.xlabel(\"Rôle\")\n",
    "# plt.show()\n",
    "\n",
    "# sns.histplot(players_df['player_kills'], kde=True, bins=20)\n",
    "# plt.title(\"Distribution des kills par joueur\")\n",
    "# plt.xlabel(\"Kills\")\n",
    "# plt.ylabel(\"Nombre de joueurs\")\n",
    "# plt.show()\n",
    "\n",
    "# sns.boxplot(data=players_df, x='role', y='player_kills')\n",
    "# plt.title(\"Répartition kills par rôle\")\n",
    "# plt.ylabel(\"Kills\")\n",
    "# plt.xlabel(\"Rôle\")\n",
    "# plt.show()\n",
    "\n",
    "\n",
    "# sns.boxplot(data=players_df, x='role', y='gold_earned')\n",
    "# plt.title(\"Répartition de l'or gagné par rôle\")\n",
    "# plt.ylabel(\"Gold gagné\")\n",
    "# plt.xlabel(\"Rôle\")\n",
    "# plt.show()\n",
    "\n",
    "# numeric_cols = players_df.select_dtypes(include='number')\n",
    "# plt.figure(figsize=(12, 10))\n",
    "# sns.heatmap(numeric_cols.corr(), cmap='coolwarm', annot=True, fmt=\".2f\")\n",
    "# plt.title(\"Corrélations entre variables numériques\")\n",
    "# plt.show()\n",
    "\n"
   ]
  },
  {
   "cell_type": "markdown",
   "id": "7a0a9e78",
   "metadata": {},
   "source": [
    "ATTENTION : Je viens de me rappeler que il faut qu'on crée la colonnes KDA pcq c'est une bonne métrique donc je le fais maintenant :"
   ]
  },
  {
   "cell_type": "code",
   "execution_count": 68,
   "id": "5a1fc6a1",
   "metadata": {},
   "outputs": [
    {
     "name": "stdout",
     "output_type": "stream",
     "text": [
      "Nombre de joueurs avec 0 mort : 43219\n",
      "Nombre de joueurs avec 1 mort : 65265\n",
      "Proportion : 11.55% des joueurs\n",
      "Proportion : 17.44% des joueurs\n"
     ]
    }
   ],
   "source": [
    "#Analyse le nombre de fois où le joueur n'est pas mort pour le calcul de KDA pour savoir si quand ca arrive \n",
    "#Je fais une division par 1 ou si on fais un NaN.\n",
    "no_death_count = player_match_df[player_match_df['player_deaths'] == 0].shape[0]\n",
    "one_death_count = player_match_df[player_match_df['player_deaths'] == 1].shape[0]\n",
    "print(f\"Nombre de joueurs avec 0 mort : {no_death_count}\")\n",
    "print(f\"Nombre de joueurs avec 1 mort : {one_death_count}\")\n",
    "\n",
    "total_rows = player_match_df.shape[0]\n",
    "print(f\"Proportion : {no_death_count / total_rows * 100:.2f}% des joueurs\")\n",
    "print(f\"Proportion : {one_death_count / total_rows * 100:.2f}% des joueurs\")\n",
    "\n"
   ]
  },
  {
   "cell_type": "markdown",
   "id": "6a1a07ea",
   "metadata": {},
   "source": [
    "Etant donné qu'on a 11% de joueurs qui ne meurents pas c'est assez significatif, on peut pas les nier et faut les \"félicité\" de pas mourir donc on va faire en sorte que quand leurs mort = 0 on remplace par 0,1 ou qqch comme ça, pour multiplier un peur leur KDA.  \n",
    "Je ne fais que 0,1 parce que je ne veux pas avoir des données trop extreme dans mon dataset, je vais aussi surement caper le KDA en fonction des val que les connaisseurs de LOL vont me donner."
   ]
  },
  {
   "cell_type": "code",
   "execution_count": 74,
   "id": "8fb94d68",
   "metadata": {},
   "outputs": [
    {
     "data": {
      "image/png": "[encoded data removed]",
      "text/plain": [
       "<Figure size 1600x700 with 2 Axes>"
      ]
     },
     "metadata": {},
     "output_type": "display_data"
    }
   ],
   "source": [
    "#Création de la colonne KDA \n",
    "# Garder le vrai KDA quand c’est défini\n",
    "player_match_df['KDA'] = (player_match_df['player_kills'] + player_match_df['player_assists']) / player_match_df['player_deaths'].replace(0, 0.1)\n",
    "\n",
    "#On décide de capper le KDA pcq une valeur de 170 c'est beaucoup trop et ca fausserait nos données d'apprentissage.\n",
    "#Déjà 50 c'est un KDA hors du commun donc c'est assez représentatif pour dire que c'est exeptionnel\n",
    "player_match_df['KDA_capped'] = player_match_df['KDA'].clip(upper=90)\n",
    "\n",
    "\n",
    "plt.figure(figsize=(16, 7))\n",
    "plt.subplot(1, 2, 1)\n",
    "sns.histplot(player_match_df[player_match_df['KDA'] < 200]['KDA'], bins=50, kde=True) #Le bin divise la variable KDA en 50 tranches égales 0 < 1er bin < 3,6 < 2eme bin < 7,2 ... -> 180\n",
    "plt.title(\"KDA brut\")\n",
    "\n",
    "plt.subplot(1, 2, 2)\n",
    "sns.histplot(player_match_df[player_match_df['KDA_capped'] < 200]['KDA_capped'], bins=50, kde=True, color='orange') #Le bin divise la variable KDA en 50 tranches égales 0 < 1er bin < 3,6 < 2eme bin < 7,2 ... -> 180\n",
    "plt.title(\"KDA capé\")\n",
    "plt.show()\n",
    "\n"
   ]
  },
  {
   "cell_type": "markdown",
   "id": "e9058817",
   "metadata": {},
   "source": [
    "Visualisation des données numériques qui pourraient avoir une corrélation avec la win"
   ]
  },
  {
   "cell_type": "code",
   "execution_count": 70,
   "id": "7bea4256",
   "metadata": {},
   "outputs": [
    {
     "data": {
      "image/png": "[encoded data removed]",
      "text/plain": [
       "<Figure size 1200x1000 with 2 Axes>"
      ]
     },
     "metadata": {},
     "output_type": "display_data"
    },
    {
     "name": "stdout",
     "output_type": "stream",
     "text": [
      "win                                1.000000e+00\n",
      "tower_kills                        8.880146e-01\n",
      "inhibitor_kills                    7.449479e-01\n",
      "team_kills                         6.818135e-01\n",
      "baron_kills                        6.279086e-01\n",
      "dragon_kills                       5.904183e-01\n",
      "player_assists                     5.502283e-01\n",
      "largest_killing_spree              3.951092e-01\n",
      "KDA_capped                         3.900524e-01\n",
      "KDA                                3.843640e-01\n",
      "player_kills                       3.693435e-01\n",
      "largest_multi_kill                 3.069631e-01\n",
      "gold_earned                        2.904191e-01\n",
      "level                              2.819487e-01\n",
      "herald_kills                       2.721353e-01\n",
      "total_damage_dealt_to_champions    1.648171e-01\n",
      "total_damage_dealt                 1.076241e-01\n",
      "total_minions_killed               4.955704e-02\n",
      "wards_placed                       1.989463e-02\n",
      "league_id                          6.396829e-06\n",
      "game_length                        3.587813e-07\n",
      "match_id                          -4.817163e-06\n",
      "game_id                           -5.090210e-06\n",
      "series_id                         -5.837013e-06\n",
      "tournament_id                     -5.918241e-06\n",
      "team_id                           -3.485020e-02\n",
      "player_id                         -7.164477e-02\n",
      "total_damage_taken                -8.217965e-02\n",
      "player_deaths                     -5.081462e-01\n",
      "Name: win, dtype: float64\n"
     ]
    }
   ],
   "source": [
    "player_match_df['win'] = player_match_df['win'].astype(int)\n",
    "\n",
    "numeric_cols = player_match_df.select_dtypes(include='number')\n",
    "corr = numeric_cols.corr()\n",
    "\n",
    "plt.figure(figsize=(12, 10))\n",
    "sns.heatmap(corr[['win']], cmap='coolwarm', annot=True)\n",
    "plt.title(\"Corrélation des variables numériques avec la victoire (win)\")\n",
    "plt.show()\n",
    "\n",
    "print(corr['win'].sort_values(ascending=False))"
   ]
  },
  {
   "cell_type": "markdown",
   "id": "7a9fadc4",
   "metadata": {},
   "source": [
    "Okay donc maintenant on peut se dire qu'on va garder que les données > 0,25 (pris arbitrairement) et < -0,25 (pcq elles permettent de prédire des défaites)  \n",
    "C'est à dire : \n",
    "tower_kills  \n",
    "inhibitor_kills  \n",
    "team_kills  \n",
    "baron_kills  \n",
    "dragon_kills  \n",
    "player_assists  \n",
    "largest_killing_spree  \n",
    "KDA_capped  \n",
    "KDA  \n",
    "player_kills  \n",
    "largest_multi_kill  \n",
    "gold_earned  \n",
    "level  \n",
    "herald_kills  \n",
    "player_deaths  "
   ]
  },
  {
   "cell_type": "code",
   "execution_count": 71,
   "id": "8909212a",
   "metadata": {},
   "outputs": [
    {
     "name": "stdout",
     "output_type": "stream",
     "text": [
      "Features utiles : ['team_kills', 'tower_kills', 'inhibitor_kills', 'dragon_kills', 'herald_kills', 'baron_kills', 'player_kills', 'player_deaths', 'player_assists', 'gold_earned', 'level', 'largest_killing_spree', 'largest_multi_kill', 'KDA', 'KDA_capped']\n"
     ]
    }
   ],
   "source": [
    "# On garde les features corrélées de manière significative\n",
    "corr_threshold = 0.25\n",
    "strong_corr_features = corr[abs(corr['win']) > corr_threshold].index.tolist()\n",
    "\n",
    "# On peut retirer 'win' si elle est incluse\n",
    "strong_corr_features.remove('win')\n",
    "print(\"Features utiles :\", strong_corr_features)\n"
   ]
  }
 ],
 "metadata": {
  "kernelspec": {
   "display_name": "Python 3",
   "language": "python",
   "name": "python3"
  },
  "language_info": {
   "codemirror_mode": {
    "name": "ipython",
    "version": 3
   },
   "file_extension": ".py",
   "mimetype": "text/x-python",
   "name": "python",
   "nbconvert_exporter": "python",
   "pygments_lexer": "ipython3",
   "version": "3.13.1"
  }
 },
 "nbformat": 4,
 "nbformat_minor": 5
}
